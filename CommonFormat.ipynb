{
 "cells": [
  {
   "cell_type": "markdown",
   "metadata": {},
   "source": [
    "\n",
    "Preprocessng Dataset"
   ]
  },
  {
   "cell_type": "code",
   "execution_count": null,
   "metadata": {},
   "outputs": [],
   "source": [
    "\n",
    "\n",
    "import pandas as pd\n",
    "from sklearn.preprocessing import LabelEncoder\n",
    "\n",
    "# Load the Iris dataset from a CSV file\n",
    "iris_df = pd.read_csv(\"iris.csv\")\n",
    "\n",
    "# Preprocessing\n",
    "# Finding shape of dataset\n",
    "print(\"Shape of dataset:\", iris_df.shape)\n",
    "\n",
    "# Finding null values\n",
    "print(\"Null values:\")\n",
    "print(iris_df.isnull().sum())\n",
    "\n",
    "# Finding unique values in 'species' column\n",
    "print(\"Unique values in 'species' column:\", iris_df['species'].unique())\n",
    "\n",
    "# Applying label encoder to convert categorical 'species' column to numerical\n",
    "label_encoder = LabelEncoder()\n",
    "iris_df['species'] = label_encoder.fit_transform(iris_df['species'])\n",
    "\n",
    "# Removing null values\n",
    "iris_df.dropna(inplace=True)\n"
   ]
  },
  {
   "cell_type": "markdown",
   "metadata": {},
   "source": [
    "Perform Required Operations"
   ]
  },
  {
   "cell_type": "code",
   "execution_count": null,
   "metadata": {},
   "outputs": [],
   "source": [
    "import pandas as pd\n",
    "\n",
    "# Load the Iris dataset from a CSV file\n",
    "iris_df = pd.read_csv(\"iris.csv\")\n",
    "\n",
    "# g. Create data subsets for different species\n",
    "setosa_subset = iris_df[iris_df['species'] == 'setosa']\n",
    "versicolor_subset = iris_df[iris_df['species'] == 'versicolor']\n",
    "virginica_subset = iris_df[iris_df['species'] == 'virginica']\n",
    "\n",
    "# h. Merge two subsets\n",
    "merged_subset = pd.concat([setosa_subset, versicolor_subset])\n",
    "\n",
    "# i. Sort Data Petal Length\n",
    "sorted_by_petal_length = iris_df.sort_values(by='petal_length')\n",
    "\n",
    "# j. Transposing Data\n",
    "transposed_data = iris_df.T  # Transpose the DataFrame\n",
    "\n",
    "# k. Melting Data to long format\n",
    "melted_data = pd.melt(iris_df, id_vars=['species'], var_name='measurement', value_name='value')\n",
    "\n",
    "# l. Casting data to wide format\n",
    "wide_format_data = melted_data.pivot_table(index='species', columns='measurement', values='value', aggfunc='first')\n",
    "\n",
    "# You can then save these subsets or transformed dataframes to new CSV files if needed\n"
   ]
  }
 ],
 "metadata": {
  "language_info": {
   "name": "python"
  }
 },
 "nbformat": 4,
 "nbformat_minor": 2
}
